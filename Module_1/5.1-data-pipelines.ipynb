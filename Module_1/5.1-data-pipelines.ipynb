{
 "cells": [
  {
   "cell_type": "markdown",
   "id": "6d6b5aef",
   "metadata": {},
   "source": [
    "### Objectives\n",
    "- To create a mock pipeline based on the business model that students choose\n",
    "\n",
    "### Introduction\n",
    "\n",
    "Based on the previous readings, we will simulate how we can best determine\n",
    "- The state of the current system (legacy)\n",
    "- Whether we should migrate the system to cloud\n",
    "- (Optional) Designing the architecture of the cloud system\n"
   ]
  },
  {
   "cell_type": "markdown",
   "id": "1841ccbb",
   "metadata": {},
   "source": [
    "### Problem Statement\n",
    "Suppose you're a decision maker in the engineering team at an eCommerce company which currently generates millions of dollars in net revenue. You have a legacy system that sits on company's data centers in remote locations, away from the headquarter where your office is. The engineering team and the data analytics team have made the decision that they would like to build a search engine, recommendation engine, and few other engines that require heavy machine learning models to increase the revenue for the company. As a decision maker, you need to assess the current system, and the engineering requirement for the future fiscal years. So you decide to answer some questions and prepare answers for the next leadership meeting.\n",
    "\n",
    "\n",
    "Currently, the capability of the data center is limited based on the square footage of the location, as well as the hardware that can be stored in the square footage. The data center resource is not only shared in the engineering team, but also within the supply chain team, logistics, HR's IT platform, and also with some other internal operations, like marketing, leadership, and also analytics team. The data centers have maxed out in terms of the hardware that they can support, and may be in need of expanding and opening up another data center."
   ]
  },
  {
   "cell_type": "markdown",
   "id": "64bd88d1",
   "metadata": {},
   "source": [
    "#### Assumptions when solving this problem\n",
    "\n",
    "- The problem statement merely states the current business problem you're facing. The design of the hypothetical data center, like square footage, hardware capabilities, human resources are all something you can create! The limitation is one thing to keep in mind, that in any data center(s), you have ran out of spaces to add more hardware.\n",
    "- You can assume based on the revenue the company is making how much data is being generated per day.\n",
    "- Be creative! If you're using third party data, i.e. Adobe Target for audience targeting, how are we receiving that data? Will that data sit on our data center and will it take up the resources? These are free constraints that you can create, but be realistic."
   ]
  },
  {
   "cell_type": "markdown",
   "id": "eeff2ec1",
   "metadata": {},
   "source": [
    "1. What is the current cost of maintaining the remote data center location?"
   ]
  },
  {
   "cell_type": "code",
   "execution_count": 1,
   "id": "7d9f0006",
   "metadata": {},
   "outputs": [],
   "source": [
    "# your solution\n",
    "\n",
    "# The current cost of maintaining the remote data center location is the sum of the cost of the square footage and the cost of the hardware that can be stored in the square footage. \n",
    "#   - The cost of the square footage is the cost of the rent of the location, the cost of the electricity, the cost of the cooling system, the cost of the security system, and the cost of the insurance. \n",
    "#   - The cost of the hardware is the cost of the servers, the cost of the storage, the cost of the networking equipment, the cost of the backup system, the cost of the monitoring system, and the cost of the maintenance."
   ]
  },
  {
   "cell_type": "markdown",
   "id": "1803e76a",
   "metadata": {},
   "source": [
    "2. What are the new business requirements from your engineering team? "
   ]
  },
  {
   "cell_type": "code",
   "execution_count": 2,
   "id": "cd885a75",
   "metadata": {},
   "outputs": [],
   "source": [
    "# your solution, but be creative! It doesn't have to limit to the requirement from the problem statement\n",
    "\n",
    "# The new business requirements from the engineering team are to build a search engine, recommendation engine, and few other engines that require heavy machine learning models to increase the revenue for the company. \n",
    "\n",
    "# - The search engine will allow the customers to search for products on the company's website. \n",
    "# - The recommendation engine will recommend products to the customers based on their browsing history and purchase history.\n",
    "# - The other engines will provide insights to the marketing team, the leadership team, and the analytics team. \n",
    "#       - The marketing team will use the insights to target the right audience. \n",
    "#       - The leadership team will use the insights to make strategic decisions. \n",
    "#       - The analytics team will use the insights to improve the performance of the company."
   ]
  },
  {
   "cell_type": "markdown",
   "id": "4c9b740b",
   "metadata": {},
   "source": [
    "3. Based on the new business requirements, you decide that you need to start migrating (at least) your resources to the cloud system. What are some things that you may need to look into when considering migrating your legacy system to cloud?"
   ]
  },
  {
   "cell_type": "code",
   "execution_count": 2,
   "id": "c0e1eb0d",
   "metadata": {},
   "outputs": [],
   "source": [
    "# your solution\n",
    "\n",
    "# When considering migrating the legacy system to the cloud, you may need to look into the following things:\n",
    "\n",
    "# 1. The cost\n",
    "\n",
    "# 2. The security\n",
    "\n",
    "# 3. The scalability\n",
    "\n",
    "# 4. The performance\n",
    "\n",
    "# 5. The reliability\n"
   ]
  },
  {
   "cell_type": "markdown",
   "id": "59bec5af",
   "metadata": {},
   "source": [
    "4. In the end, you'll need to persuade leadership why you need to migrate a system to another place, i.e. cloud, when in the eyes of leadership, everything is working fine. Write out cons/pros based on the shared categories, like cost, human resources, etc."
   ]
  },
  {
   "cell_type": "code",
   "execution_count": 4,
   "id": "f99e810d",
   "metadata": {},
   "outputs": [],
   "source": [
    "# your solution\n",
    "\n",
    "# Pros of Migrating to the Cloud:\n",
    "\n",
    "\"\"\"1. Cost Savings\n",
    "\n",
    "\t•\tReduced Hardware Costs: No need for maintaining or purchasing physical servers, which reduces capital expenditure.\n",
    "\t•\tPay-as-you-go Model: Only pay for what you use, avoiding overprovisioning.\n",
    "\t•\tEnergy Efficiency: Lower energy consumption since you are not running physical infrastructure in-house.\n",
    "\t•\tMaintenance Reduction: Cloud providers handle hardware upkeep, leading to fewer in-house IT maintenance costs.\n",
    "\n",
    "2. Human Resources\n",
    "\n",
    "\t•\tLess IT Overhead: Internal teams can focus on innovation rather than maintaining infrastructure.\n",
    "\n",
    "3. Scalability\n",
    "\n",
    "\t•\tElastic Resources: Easily scale up or down based on demand, avoiding the risk of under or over-provisioning.\n",
    "\t•\tGlobal Reach: If the business expands, cloud infrastructure can be accessed globally with minimal latency issues.\n",
    "\n",
    "4. Disaster Recovery\n",
    "\n",
    "\t•\tHigh Availability and Reliability: Built-in redundancy across data centers for backups and failovers, reducing the risk of downtime.\n",
    "\t•\tBackup and Recovery: Easier and faster recovery options, minimizing potential data loss and recovery times.\n",
    "\n",
    "5. Performance\n",
    "\n",
    "\t•\tImproved Speed: Cloud services often outperform on-premise infrastructure in terms of speed and reliability.\n",
    "\t•\tAccess to AI Tools: Cloud environments provide access to AI, machine learning, and analytics tools that might be cost-prohibitive to implement on-premise.\n",
    " \"\"\"\n",
    "\n",
    "# Cons of Migrating to the Cloud:\n",
    "\n",
    "\"\"\" 1. Migration\n",
    "\n",
    "\t•\tMigration Costs: Initial expenses may be high due to data transfer, new architecture, and potential refactoring of applications.\n",
    "\t•\tTraining Costs: Teams may require additional training to operate in a cloud environment, which involves an upfront investment.\n",
    "\n",
    "2. Human Resources\n",
    "\n",
    "\t•\tSkill Gap: Not all IT staff may have cloud experience, requiring either hiring or retraining, which could slow down the migration.\n",
    "\t•\tResistance to Change: Employees might resist the move if they are accustomed to on-premise infrastructure.\n",
    "\n",
    "3. Ongoing Operational Costs\n",
    "\n",
    "\t•\tUncontrolled Spending: If not managed well, cloud usage can result in unpredictable and higher-than-expected costs due to scaling and additional services.\n",
    "\n",
    "4. Security Concerns\n",
    "\n",
    "\t•\tData Privacy and Compliance: Depending on your cloud provider, data privacy and compliance could be more challenging, especially in regulated industries (e.g., healthcare).\n",
    "\t•\tThird-party Risks: Entrusting data to third-party vendors introduces new security risks.\n",
    "\n",
    "5. Performance Uncertainty\n",
    "\n",
    "\t•\tLatency Issues: Some cloud applications may suffer from latency issues depending on geographic location or bandwidth.\n",
    "\t•\tDependence on Internet Connectivity: A solid internet connection is a must; downtime or slow speeds could impact productivity. \"\"\""
   ]
  },
  {
   "cell_type": "markdown",
   "id": "6e33f2e8",
   "metadata": {},
   "source": [
    "(OPTIONAL) This may require an engineering/software background. You have the same hypothetical machine learning architecture, but one on the legacy system and one on the cloud. Moving away from the business logic, what is the benefit on the engineering stack if we use the cloud? What can be problematic if we use the cloud?"
   ]
  },
  {
   "cell_type": "code",
   "execution_count": 5,
   "id": "edbbc3aa",
   "metadata": {},
   "outputs": [],
   "source": [
    "# your solution, attach a screenshot of a hypothetical architecture at a high level\n",
    "\n",
    "# The benefit of using the cloud for the machine learning architecture is that it provides scalability, flexibility, and cost-effectiveness. The cloud allows you to scale up or down based on the demand, which can help you save costs. The cloud also provides flexibility in terms of the resources you can use, such as storage, compute, and networking. Additionally, the cloud offers cost-effective solutions, as you only pay for what you use.\n",
    "\n",
    "# Hypothetical architecture at a high level (with words of the services used in the architecture):\n",
    "\n",
    "# Cloud Storage: Data is stored in a cloud storage service such as Amazon S3.\n",
    "# Cloud Computing: Data processing is done using cloud computing resources such as Amazon EC2.\n",
    "# Machine Learning Models: Machine learning models are deployed on cloud servers using services like Amazon SageMaker.\n",
    "# APIs: APIs interact with the machine learning models to provide predictions and insights to end-users.\n",
    "# Monitoring: Monitoring services such as Amazon CloudWatch is used to monitor the performance and health of the architecture.\n",
    "# Security: Security services such as AWS Identity and Access Management (IAM) is used to secure the architecture.\n",
    "# Networking: Networking services such as Amazon VPC is used to connect the different components of the architecture.\n",
    "# Cost Management: Cost management services such as AWS Cost Explorer is used to monitor and optimize the costs of the architecture.\n",
    "\n",
    "# Some potential problems that can arise from the architecture include:\n",
    "\n",
    "# 1. Data security: Storing sensitive data in the cloud can pose security risks, such as data breaches or unauthorized access.\n",
    "\n",
    "# 2. Scalability challenges: While the architecture is designed to be scalable, there may be challenges in scaling up or down based on demand.\n",
    "\n",
    "# 3. Performance bottlenecks: The architecture may face performance bottlenecks due to network latency, data processing delays, or resource contention.\n",
    "\n",
    "# 4. Cost management: While the cloud offers cost-effective solutions, improper resource allocation or inefficient use of cloud services can lead to cost overruns.\n",
    "\n",
    "# 5. Compliance and regulatory issues: The architecture needs to comply with data protection regulations and industry standards to ensure legal and ethical use of data.\n",
    "\n"
   ]
  },
  {
   "cell_type": "code",
   "execution_count": null,
   "id": "60f1049e",
   "metadata": {},
   "outputs": [],
   "source": []
  }
 ],
 "metadata": {
  "kernelspec": {
   "display_name": "Python 3 (ipykernel)",
   "language": "python",
   "name": "python3"
  },
  "language_info": {
   "codemirror_mode": {
    "name": "ipython",
    "version": 3
   },
   "file_extension": ".py",
   "mimetype": "text/x-python",
   "name": "python",
   "nbconvert_exporter": "python",
   "pygments_lexer": "ipython3",
   "version": "3.11.9"
  }
 },
 "nbformat": 4,
 "nbformat_minor": 5
}
